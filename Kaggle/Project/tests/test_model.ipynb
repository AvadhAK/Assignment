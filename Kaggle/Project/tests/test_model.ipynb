{
 "cells": [
  {
   "cell_type": "code",
   "execution_count": 10,
   "metadata": {},
   "outputs": [
    {
     "name": "stderr",
     "output_type": "stream",
     "text": [
      "c:\\Users\\avadhkishore\\AppData\\Local\\miniconda3\\envs\\mlops-env\\lib\\site-packages\\_pytest\\config\\__init__.py:331: PluggyTeardownRaisedWarning: A plugin raised an exception during an old-style hookwrapper teardown.\n",
      "Plugin: helpconfig, Hook: pytest_cmdline_parse\n",
      "UsageError: usage: ipykernel_launcher.py [options] [file_or_dir] [file_or_dir] [...]\n",
      "ipykernel_launcher.py: error: unrecognized arguments: --f=c:\\Users\\avadhkishore\\AppData\\Roaming\\jupyter\\runtime\\kernel-v3732be598d54e973c780686b1a22a87a4cf2102a2.json\n",
      "  inifile: None\n",
      "  rootdir: c:\\VSCode\\Assignment\\Kaggle\\Project\\tests\n",
      "For more information see https://pluggy.readthedocs.io/en/stable/api_reference.html#pluggy.PluggyTeardownRaisedWarning\n",
      "  config = pluginmanager.hook.pytest_cmdline_parse(\n",
      "\u001b[31mERROR: usage: ipykernel_launcher.py [options] [file_or_dir] [file_or_dir] [...]\n",
      "ipykernel_launcher.py: error: unrecognized arguments: --f=c:\\Users\\avadhkishore\\AppData\\Roaming\\jupyter\\runtime\\kernel-v3732be598d54e973c780686b1a22a87a4cf2102a2.json\n",
      "  inifile: None\n",
      "  rootdir: c:\\VSCode\\Assignment\\Kaggle\\Project\\tests\n",
      "\u001b[0m\n"
     ]
    }
   ],
   "source": [
    "import pytest\n",
    "from sklearn.datasets import load_iris\n",
    "# from src.model import train_model\n",
    "# from src.utils import load_model, predict\n",
    "\n",
    "def test_train_model():\n",
    "    model.train_model()\n",
    "    model = load_model()\n",
    "    assert model is not None, \"Model should be trained and saved.\"\n",
    "\n",
    "def test_prediction():\n",
    "    model = load_model()\n",
    "    iris = load_iris()\n",
    "    sample = iris.data[0]  # Use the first data sample for testing\n",
    "    prediction = predict(model, sample)\n",
    "    assert prediction is not None, \"Prediction should not be None.\"\n",
    "    assert len(prediction) == 1, \"Prediction should return one result.\"\n",
    "\n",
    "if __name__ == \"__main__\":\n",
    "    pytest.main()\n"
   ]
  }
 ],
 "metadata": {
  "kernelspec": {
   "display_name": "mlops-env",
   "language": "python",
   "name": "python3"
  },
  "language_info": {
   "codemirror_mode": {
    "name": "ipython",
    "version": 3
   },
   "file_extension": ".py",
   "mimetype": "text/x-python",
   "name": "python",
   "nbconvert_exporter": "python",
   "pygments_lexer": "ipython3",
   "version": "3.10.16"
  }
 },
 "nbformat": 4,
 "nbformat_minor": 2
}
