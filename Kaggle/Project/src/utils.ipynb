{
 "cells": [
  {
   "cell_type": "code",
   "execution_count": 1,
   "metadata": {},
   "outputs": [],
   "source": [
    "import joblib\n",
    "import numpy as np\n",
    "\n",
    "def load_model(model_path=\"models/decision_tree_model.pkl\"):\n",
    "    try:\n",
    "        model = joblib.load(model_path)\n",
    "        return model\n",
    "    except FileNotFoundError:\n",
    "        print(\"Model file not found. Train the model first.\")\n",
    "        return None\n",
    "\n",
    "def predict(model, sample):\n",
    "    if model is None:\n",
    "        print(\"No model loaded.\")\n",
    "        return None\n",
    "    return model.predict(np.array(sample).reshape(1, -1))\n"
   ]
  }
 ],
 "metadata": {
  "kernelspec": {
   "display_name": "mlops-env",
   "language": "python",
   "name": "python3"
  },
  "language_info": {
   "codemirror_mode": {
    "name": "ipython",
    "version": 3
   },
   "file_extension": ".py",
   "mimetype": "text/x-python",
   "name": "python",
   "nbconvert_exporter": "python",
   "pygments_lexer": "ipython3",
   "version": "3.10.16"
  }
 },
 "nbformat": 4,
 "nbformat_minor": 2
}
