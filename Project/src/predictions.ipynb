{
 "cells": [
  {
   "cell_type": "code",
   "execution_count": 1,
   "metadata": {},
   "outputs": [
    {
     "name": "stdout",
     "output_type": "stream",
     "text": [
      "Prediction: [0]\n"
     ]
    }
   ],
   "source": [
    "import pickle\n",
    "import numpy as np\n",
    "\n",
    "def load_model_and_predict(sample_data):\n",
    "    # Load the saved model\n",
    "    with open(\"model.pkl\", \"rb\") as f:\n",
    "        model = pickle.load(f)\n",
    "    \n",
    "    # Predict using the model\n",
    "    prediction = model.predict(sample_data)\n",
    "    return prediction\n",
    "\n",
    "if __name__ == \"__main__\":\n",
    "    # Sample data for prediction (first row of Iris dataset)\n",
    "    sample_data = np.array([[5.1, 3.5, 1.4, 0.2]])\n",
    "    prediction = load_model_and_predict(sample_data)\n",
    "    print(f\"Prediction: {prediction}\")"
   ]
  }
 ],
 "metadata": {
  "kernelspec": {
   "display_name": "mlops-env",
   "language": "python",
   "name": "python3"
  },
  "language_info": {
   "codemirror_mode": {
    "name": "ipython",
    "version": 3
   },
   "file_extension": ".py",
   "mimetype": "text/x-python",
   "name": "python",
   "nbconvert_exporter": "python",
   "pygments_lexer": "ipython3",
   "version": "3.10.16"
  }
 },
 "nbformat": 4,
 "nbformat_minor": 2
}
