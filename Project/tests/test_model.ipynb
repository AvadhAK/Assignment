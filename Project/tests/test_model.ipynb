{
 "cells": [
  {
   "cell_type": "code",
   "execution_count": 38,
   "metadata": {},
   "outputs": [],
   "source": [
    "import numpy as np\n",
    "from src.predictions import load_model_and_predict\n",
    "\n",
    "def test_predict():\n",
    "    # Test prediction functionality\n",
    "    sample_data = np.array([[5.1, 3.5, 1.4, 0.2]])\n",
    "    prediction = load_model_and_predict(sample_data)\n",
    "    assert prediction is not None, \"Prediction failed\"\n",
    "    assert len(prediction) == 1, \"Prediction result length mismatch\"\n"
   ]
  }
 ],
 "metadata": {
  "kernelspec": {
   "display_name": "mlops-env",
   "language": "python",
   "name": "python3"
  },
  "language_info": {
   "codemirror_mode": {
    "name": "ipython",
    "version": 3
   },
   "file_extension": ".py",
   "mimetype": "text/x-python",
   "name": "python",
   "nbconvert_exporter": "python",
   "pygments_lexer": "ipython3",
   "version": "3.10.16"
  }
 },
 "nbformat": 4,
 "nbformat_minor": 2
}
